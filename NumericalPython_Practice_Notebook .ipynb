{
 "cells": [
  {
   "cell_type": "markdown",
   "id": "11e3bbbd",
   "metadata": {},
   "source": [
    "# Numpy Practice Notebook"
   ]
  },
  {
   "cell_type": "code",
   "execution_count": 1,
   "id": "291b1c5d",
   "metadata": {},
   "outputs": [],
   "source": [
    "import numpy as np # Importing numpy library as np "
   ]
  },
  {
   "cell_type": "markdown",
   "id": "a3dee260",
   "metadata": {},
   "source": [
    "# Creating Numpy Arrays"
   ]
  },
  {
   "cell_type": "markdown",
   "id": "fcef4df7",
   "metadata": {},
   "source": [
    "## *1-Dimensional array*\n",
    "1 D array is also known as a vector. 1D array have only one axis"
   ]
  },
  {
   "cell_type": "markdown",
   "id": "952901d5",
   "metadata": {},
   "source": [
    "### Simple Array"
   ]
  },
  {
   "cell_type": "code",
   "execution_count": 2,
   "id": "c3a78b72",
   "metadata": {},
   "outputs": [
    {
     "data": {
      "text/plain": [
       "array([1, 2, 3, 4, 5])"
      ]
     },
     "execution_count": 2,
     "metadata": {},
     "output_type": "execute_result"
    }
   ],
   "source": [
    "a1a = np.array([1,2,3,4,5])\n",
    "a1a"
   ]
  },
  {
   "cell_type": "markdown",
   "id": "b94be127",
   "metadata": {},
   "source": [
    "### Arrange function"
   ]
  },
  {
   "cell_type": "code",
   "execution_count": 3,
   "id": "c62eba83",
   "metadata": {},
   "outputs": [
    {
     "data": {
      "text/plain": [
       "array([1, 3, 5, 7, 9])"
      ]
     },
     "execution_count": 3,
     "metadata": {},
     "output_type": "execute_result"
    }
   ],
   "source": [
    "a1b = np.arange(1,10,2) #arange creates an array starts from 1 to 10-1 with steps 2\n",
    "a1b"
   ]
  },
  {
   "cell_type": "markdown",
   "id": "0b36ea21",
   "metadata": {},
   "source": [
    "### Array with zeros"
   ]
  },
  {
   "cell_type": "code",
   "execution_count": 4,
   "id": "a193bf87",
   "metadata": {},
   "outputs": [
    {
     "data": {
      "text/plain": [
       "array([0., 0., 0., 0., 0.])"
      ]
     },
     "execution_count": 4,
     "metadata": {},
     "output_type": "execute_result"
    }
   ],
   "source": [
    "a1c = np.zeros(5) # np.zeros will create an array of (no. of times provided in argument) zeros\n",
    "a1c"
   ]
  },
  {
   "cell_type": "markdown",
   "id": "a348d766",
   "metadata": {},
   "source": [
    "### Array with ones"
   ]
  },
  {
   "cell_type": "code",
   "execution_count": 5,
   "id": "74ad9228",
   "metadata": {},
   "outputs": [
    {
     "data": {
      "text/plain": [
       "array([1., 1., 1., 1., 1.])"
      ]
     },
     "execution_count": 5,
     "metadata": {},
     "output_type": "execute_result"
    }
   ],
   "source": [
    "a1d = np.ones(5) #np.ones create an array of (no. of times provided in argument) ones\n",
    "a1d"
   ]
  },
  {
   "cell_type": "markdown",
   "id": "caeadde0",
   "metadata": {},
   "source": [
    "### Empty Array"
   ]
  },
  {
   "cell_type": "code",
   "execution_count": 6,
   "id": "66062bc2",
   "metadata": {},
   "outputs": [
    {
     "data": {
      "text/plain": [
       "array([1., 1., 1., 1., 1.])"
      ]
     },
     "execution_count": 6,
     "metadata": {},
     "output_type": "execute_result"
    }
   ],
   "source": [
    "a1e = np.empty(5) #np.empty creates an empty array of size provided in arguments\n",
    "a1e"
   ]
  },
  {
   "cell_type": "markdown",
   "id": "354dff10",
   "metadata": {},
   "source": [
    "### Linearly spaced array"
   ]
  },
  {
   "cell_type": "code",
   "execution_count": 7,
   "id": "1a8936e4",
   "metadata": {},
   "outputs": [
    {
     "data": {
      "text/plain": [
       "array([ 2.,  4.,  6.,  8., 10., 12., 14., 16., 18., 20.])"
      ]
     },
     "execution_count": 7,
     "metadata": {},
     "output_type": "execute_result"
    }
   ],
   "source": [
    "a1f = np.linspace(2,20,num=10) #linspace creates an equal spaced array with size provided to num variable  \n",
    "a1f"
   ]
  },
  {
   "cell_type": "markdown",
   "id": "5325e8fa",
   "metadata": {},
   "source": [
    "### Full array (Array with same number)"
   ]
  },
  {
   "cell_type": "code",
   "execution_count": 8,
   "id": "457f06d6",
   "metadata": {},
   "outputs": [
    {
     "data": {
      "text/plain": [
       "array([3, 3, 3, 3, 3])"
      ]
     },
     "execution_count": 8,
     "metadata": {},
     "output_type": "execute_result"
    }
   ],
   "source": [
    "a1g = np.full((5,),3) #Creating a vector with same number\n",
    "a1g"
   ]
  },
  {
   "cell_type": "markdown",
   "id": "51ef50c4",
   "metadata": {},
   "source": [
    "### Random numbers array"
   ]
  },
  {
   "cell_type": "code",
   "execution_count": 9,
   "id": "3696bc44",
   "metadata": {},
   "outputs": [
    {
     "data": {
      "text/plain": [
       "array([0.54856612, 0.63046469, 0.67330469])"
      ]
     },
     "execution_count": 9,
     "metadata": {},
     "output_type": "execute_result"
    }
   ],
   "source": [
    "a1h = np.random.random(3,) #Creating a vector of random numbers between 0 and 1\n",
    "a1h"
   ]
  },
  {
   "cell_type": "code",
   "execution_count": 10,
   "id": "449f4a5c",
   "metadata": {},
   "outputs": [
    {
     "data": {
      "text/plain": [
       "array([3, 2, 1, 1, 1])"
      ]
     },
     "execution_count": 10,
     "metadata": {},
     "output_type": "execute_result"
    }
   ],
   "source": [
    "a1i = np.random.randint(low=0,high=4,size=(5,)) #Creating a vector of random numbers between low and high values\n",
    "a1i"
   ]
  },
  {
   "cell_type": "markdown",
   "id": "4e51c777",
   "metadata": {},
   "source": [
    "## *2-Dimensional Arrays*\n",
    "2D array is also known as a matrix. A matrix have 2 axis. axis 0 = columns and axis 1 = rows"
   ]
  },
  {
   "cell_type": "markdown",
   "id": "7ea7ed46",
   "metadata": {},
   "source": [
    "### Simple Array"
   ]
  },
  {
   "cell_type": "code",
   "execution_count": 11,
   "id": "2548e28a",
   "metadata": {},
   "outputs": [
    {
     "data": {
      "text/plain": [
       "array([[ 1,  2,  3,  4],\n",
       "       [ 5,  6,  7,  8],\n",
       "       [ 9, 10, 11, 12]])"
      ]
     },
     "execution_count": 11,
     "metadata": {},
     "output_type": "execute_result"
    }
   ],
   "source": [
    "a2a = np.array([\n",
    "    [1,2,3,4],\n",
    "    [5,6,7,8],\n",
    "    [9,10,11,12]\n",
    "])\n",
    "a2a"
   ]
  },
  {
   "cell_type": "code",
   "execution_count": 12,
   "id": "078c3f26",
   "metadata": {},
   "outputs": [
    {
     "data": {
      "text/plain": [
       "array([[0, 1, 2, 3, 4],\n",
       "       [5, 6, 7, 8, 9]])"
      ]
     },
     "execution_count": 12,
     "metadata": {},
     "output_type": "execute_result"
    }
   ],
   "source": [
    "a2b = np.arange(10).reshape(2,5) #Making a Matric of size 10. Note that product of no. of rows and cols should be equal to the size provided in the arguments of arange function\n",
    "a2b"
   ]
  },
  {
   "cell_type": "code",
   "execution_count": 13,
   "id": "5088c4c3",
   "metadata": {},
   "outputs": [
    {
     "data": {
      "text/plain": [
       "array([[0., 0., 0.],\n",
       "       [0., 0., 0.],\n",
       "       [0., 0., 0.]])"
      ]
     },
     "execution_count": 13,
     "metadata": {},
     "output_type": "execute_result"
    }
   ],
   "source": [
    "a2c = np.zeros((3,3)) #Creating a matrix of 3 rows and 3 columns\n",
    "a2c"
   ]
  },
  {
   "cell_type": "code",
   "execution_count": 14,
   "id": "5c43acdf",
   "metadata": {},
   "outputs": [
    {
     "data": {
      "text/plain": [
       "array([[1., 1., 1., 1., 1.],\n",
       "       [1., 1., 1., 1., 1.],\n",
       "       [1., 1., 1., 1., 1.],\n",
       "       [1., 1., 1., 1., 1.]])"
      ]
     },
     "execution_count": 14,
     "metadata": {},
     "output_type": "execute_result"
    }
   ],
   "source": [
    "a2d = np.ones((4,5))\n",
    "a2d"
   ]
  },
  {
   "cell_type": "code",
   "execution_count": 15,
   "id": "c6a7d26b",
   "metadata": {},
   "outputs": [
    {
     "data": {
      "text/plain": [
       "array([[  1.,  12.],\n",
       "       [ 23.,  34.],\n",
       "       [ 45.,  56.],\n",
       "       [ 67.,  78.],\n",
       "       [ 89., 100.]])"
      ]
     },
     "execution_count": 15,
     "metadata": {},
     "output_type": "execute_result"
    }
   ],
   "source": [
    "a2e = np.linspace(1,100,num=10).reshape(5,2) # Creating a matrix of linearly spaced numbers of size 5 rows and 2 columns\n",
    "a2e"
   ]
  },
  {
   "cell_type": "code",
   "execution_count": 16,
   "id": "e76e4c6c",
   "metadata": {},
   "outputs": [
    {
     "data": {
      "text/plain": [
       "array([[3, 3, 3, 3, 3],\n",
       "       [3, 3, 3, 3, 3],\n",
       "       [3, 3, 3, 3, 3],\n",
       "       [3, 3, 3, 3, 3],\n",
       "       [3, 3, 3, 3, 3]])"
      ]
     },
     "execution_count": 16,
     "metadata": {},
     "output_type": "execute_result"
    }
   ],
   "source": [
    "a2f = np.full((5,5),3) #Creating a matrix with same number\n",
    "a2f"
   ]
  },
  {
   "cell_type": "markdown",
   "id": "bef2d3b7",
   "metadata": {},
   "source": [
    "### Identity Matirx"
   ]
  },
  {
   "cell_type": "code",
   "execution_count": 17,
   "id": "e915e7b8",
   "metadata": {},
   "outputs": [
    {
     "data": {
      "text/plain": [
       "array([[1., 0., 0., 0.],\n",
       "       [0., 1., 0., 0.],\n",
       "       [0., 0., 1., 0.],\n",
       "       [0., 0., 0., 1.]])"
      ]
     },
     "execution_count": 17,
     "metadata": {},
     "output_type": "execute_result"
    }
   ],
   "source": [
    "a2g = np.eye(4,4)\n",
    "a2g"
   ]
  },
  {
   "cell_type": "markdown",
   "id": "7d79f09f",
   "metadata": {},
   "source": [
    "### Random numbers matrix"
   ]
  },
  {
   "cell_type": "code",
   "execution_count": 18,
   "id": "e42336e5",
   "metadata": {},
   "outputs": [
    {
     "data": {
      "text/plain": [
       "array([[2.31602544e-01, 1.23259148e-01, 9.64176656e-01, 3.92412739e-01],\n",
       "       [8.74582761e-02, 5.66857668e-01, 9.20587109e-04, 5.43346034e-01],\n",
       "       [2.90315151e-01, 6.97928789e-01, 5.23414184e-01, 9.64195302e-01]])"
      ]
     },
     "execution_count": 18,
     "metadata": {},
     "output_type": "execute_result"
    }
   ],
   "source": [
    "a2h = np.random.random((3,4)) #Creating a matrix of random numbers between 0 and 1\n",
    "a2h"
   ]
  },
  {
   "cell_type": "code",
   "execution_count": 19,
   "id": "f0bf2905",
   "metadata": {},
   "outputs": [
    {
     "data": {
      "text/plain": [
       "array([[1, 2, 2, 2, 1],\n",
       "       [4, 3, 3, 5, 2],\n",
       "       [5, 2, 4, 3, 4],\n",
       "       [2, 4, 3, 4, 3],\n",
       "       [1, 3, 1, 3, 5]])"
      ]
     },
     "execution_count": 19,
     "metadata": {},
     "output_type": "execute_result"
    }
   ],
   "source": [
    "a2i = np.random.randint(low=1,high=6,size=(5,5)) #Creating a matrix of random numbers between low and high values\n",
    "a2i"
   ]
  },
  {
   "cell_type": "markdown",
   "id": "d48bbe09",
   "metadata": {},
   "source": [
    "## *3-Dimensional Arrays*"
   ]
  },
  {
   "cell_type": "markdown",
   "id": "7dde8c0e",
   "metadata": {},
   "source": [
    "### Simple Array"
   ]
  },
  {
   "cell_type": "code",
   "execution_count": 20,
   "id": "26582bbc",
   "metadata": {},
   "outputs": [
    {
     "data": {
      "text/plain": [
       "array([[[1, 2, 3],\n",
       "        [3, 2, 1],\n",
       "        [4, 5, 6]],\n",
       "\n",
       "       [[7, 8, 9],\n",
       "        [9, 8, 7],\n",
       "        [6, 5, 4]],\n",
       "\n",
       "       [[9, 5, 1],\n",
       "        [1, 5, 2],\n",
       "        [8, 3, 2]]])"
      ]
     },
     "execution_count": 20,
     "metadata": {},
     "output_type": "execute_result"
    }
   ],
   "source": [
    "a3a = np.array([\n",
    "    [[1,2,3],\n",
    "     [3,2,1],\n",
    "     [4,5,6]],\n",
    "    \n",
    "    [[7,8,9],\n",
    "     [9,8,7],\n",
    "     [6,5,4]],\n",
    "    \n",
    "    [[9,5,1],\n",
    "     [1,5,2],\n",
    "     [8,3,2]]\n",
    "    ]) # A simple matrix of size (3,3,3) 3 2D arrays having 3 rows and 3 columns\n",
    "a3a"
   ]
  },
  {
   "cell_type": "code",
   "execution_count": 21,
   "id": "064e3ff1",
   "metadata": {},
   "outputs": [
    {
     "data": {
      "text/plain": [
       "array([[[ 0,  1,  2,  3,  4],\n",
       "        [ 5,  6,  7,  8,  9]],\n",
       "\n",
       "       [[10, 11, 12, 13, 14],\n",
       "        [15, 16, 17, 18, 19]],\n",
       "\n",
       "       [[20, 21, 22, 23, 24],\n",
       "        [25, 26, 27, 28, 29]],\n",
       "\n",
       "       [[30, 31, 32, 33, 34],\n",
       "        [35, 36, 37, 38, 39]],\n",
       "\n",
       "       [[40, 41, 42, 43, 44],\n",
       "        [45, 46, 47, 48, 49]]])"
      ]
     },
     "execution_count": 21,
     "metadata": {},
     "output_type": "execute_result"
    }
   ],
   "source": [
    "a3b = np.arange(50).reshape(5,2,5) #Creating a 3D array which includes 5 2D arrays of size 2 rows and 5 columns \n",
    "a3b"
   ]
  },
  {
   "cell_type": "code",
   "execution_count": 22,
   "id": "4685ddb3",
   "metadata": {},
   "outputs": [
    {
     "data": {
      "text/plain": [
       "array([[[0., 0., 0.],\n",
       "        [0., 0., 0.]],\n",
       "\n",
       "       [[0., 0., 0.],\n",
       "        [0., 0., 0.]],\n",
       "\n",
       "       [[0., 0., 0.],\n",
       "        [0., 0., 0.]]])"
      ]
     },
     "execution_count": 22,
     "metadata": {},
     "output_type": "execute_result"
    }
   ],
   "source": [
    "a3c = np.zeros((3,2,3))\n",
    "a3c"
   ]
  },
  {
   "cell_type": "code",
   "execution_count": 23,
   "id": "77edc408",
   "metadata": {},
   "outputs": [
    {
     "data": {
      "text/plain": [
       "array([[[1., 1., 1., 1., 1., 1., 1.]],\n",
       "\n",
       "       [[1., 1., 1., 1., 1., 1., 1.]],\n",
       "\n",
       "       [[1., 1., 1., 1., 1., 1., 1.]],\n",
       "\n",
       "       [[1., 1., 1., 1., 1., 1., 1.]]])"
      ]
     },
     "execution_count": 23,
     "metadata": {},
     "output_type": "execute_result"
    }
   ],
   "source": [
    "a3d = np.ones((4,1,7))\n",
    "a3d"
   ]
  },
  {
   "cell_type": "code",
   "execution_count": 24,
   "id": "64f56123",
   "metadata": {},
   "outputs": [
    {
     "data": {
      "text/plain": [
       "array([[[  1.        ,   3.02040816,   5.04081633,   7.06122449,\n",
       "           9.08163265],\n",
       "        [ 11.10204082,  13.12244898,  15.14285714,  17.16326531,\n",
       "          19.18367347],\n",
       "        [ 21.20408163,  23.2244898 ,  25.24489796,  27.26530612,\n",
       "          29.28571429],\n",
       "        [ 31.30612245,  33.32653061,  35.34693878,  37.36734694,\n",
       "          39.3877551 ],\n",
       "        [ 41.40816327,  43.42857143,  45.44897959,  47.46938776,\n",
       "          49.48979592]],\n",
       "\n",
       "       [[ 51.51020408,  53.53061224,  55.55102041,  57.57142857,\n",
       "          59.59183673],\n",
       "        [ 61.6122449 ,  63.63265306,  65.65306122,  67.67346939,\n",
       "          69.69387755],\n",
       "        [ 71.71428571,  73.73469388,  75.75510204,  77.7755102 ,\n",
       "          79.79591837],\n",
       "        [ 81.81632653,  83.83673469,  85.85714286,  87.87755102,\n",
       "          89.89795918],\n",
       "        [ 91.91836735,  93.93877551,  95.95918367,  97.97959184,\n",
       "         100.        ]]])"
      ]
     },
     "execution_count": 24,
     "metadata": {},
     "output_type": "execute_result"
    }
   ],
   "source": [
    "a3e = np.linspace(1, 100, num = 50).reshape(2,5,5)\n",
    "a3e"
   ]
  },
  {
   "cell_type": "code",
   "execution_count": 25,
   "id": "241c0f92",
   "metadata": {},
   "outputs": [
    {
     "data": {
      "text/plain": [
       "array([[[32, 19, 64, 40, 23,  6],\n",
       "        [31, 82, 58, 79, 57, 91],\n",
       "        [42, 20, 50, 27,  8, 49],\n",
       "        [ 0, 43, 41, 89, 12, 82],\n",
       "        [70, 91, 35, 89, 50, 43],\n",
       "        [75, 45, 51, 59, 75, 90]],\n",
       "\n",
       "       [[46, 71, 69, 69, 21, 39],\n",
       "        [60, 37, 12, 67, 58, 50],\n",
       "        [52, 23, 77, 86, 48, 88],\n",
       "        [46, 97,  7, 51, 43,  5],\n",
       "        [52, 72, 60, 17, 86, 82],\n",
       "        [25, 58, 92, 30, 61, 16]]])"
      ]
     },
     "execution_count": 25,
     "metadata": {},
     "output_type": "execute_result"
    }
   ],
   "source": [
    "a3f = np.random.randint(low = 0, high = 100, size = (2,6,6))\n",
    "a3f"
   ]
  },
  {
   "cell_type": "code",
   "execution_count": 26,
   "id": "a32d9e07",
   "metadata": {},
   "outputs": [
    {
     "data": {
      "text/plain": [
       "array([[[0.26341879, 0.50055969, 0.81951534],\n",
       "        [0.02346514, 0.67636781, 0.39886443],\n",
       "        [0.37597612, 0.57064326, 0.82749506],\n",
       "        [0.3126915 , 0.49707049, 0.21682798]],\n",
       "\n",
       "       [[0.97971177, 0.18692455, 0.43781019],\n",
       "        [0.68223173, 0.58175934, 0.30652476],\n",
       "        [0.50924333, 0.11087383, 0.95899054],\n",
       "        [0.53934685, 0.96589934, 0.37428034]],\n",
       "\n",
       "       [[0.18719464, 0.21329647, 0.05362497],\n",
       "        [0.77539499, 0.89481268, 0.13077001],\n",
       "        [0.80274577, 0.30550153, 0.84763637],\n",
       "        [0.05478349, 0.05768798, 0.00130087]]])"
      ]
     },
     "execution_count": 26,
     "metadata": {},
     "output_type": "execute_result"
    }
   ],
   "source": [
    "a3g = np.random.random((3,4,3))\n",
    "a3g"
   ]
  },
  {
   "cell_type": "code",
   "execution_count": 27,
   "id": "3b84e00d",
   "metadata": {},
   "outputs": [
    {
     "data": {
      "text/plain": [
       "array([[[5, 5, 5, 5],\n",
       "        [5, 5, 5, 5],\n",
       "        [5, 5, 5, 5]],\n",
       "\n",
       "       [[5, 5, 5, 5],\n",
       "        [5, 5, 5, 5],\n",
       "        [5, 5, 5, 5]]])"
      ]
     },
     "execution_count": 27,
     "metadata": {},
     "output_type": "execute_result"
    }
   ],
   "source": [
    "a3h = np.full((2,3,4),5)\n",
    "a3h"
   ]
  },
  {
   "cell_type": "markdown",
   "id": "a52e34b5",
   "metadata": {},
   "source": [
    "## *Size, Shape, Dimension, Type and DataType* "
   ]
  },
  {
   "cell_type": "markdown",
   "id": "96ddc892",
   "metadata": {},
   "source": [
    "#### Size\n",
    "- Size tells us the total number of elements present in the array "
   ]
  },
  {
   "cell_type": "code",
   "execution_count": 28,
   "id": "6eb3d8c0",
   "metadata": {},
   "outputs": [
    {
     "data": {
      "text/plain": [
       "5"
      ]
     },
     "execution_count": 28,
     "metadata": {},
     "output_type": "execute_result"
    }
   ],
   "source": [
    "a1a.size # 1D array"
   ]
  },
  {
   "cell_type": "code",
   "execution_count": 29,
   "id": "11457b1f",
   "metadata": {},
   "outputs": [
    {
     "data": {
      "text/plain": [
       "10"
      ]
     },
     "execution_count": 29,
     "metadata": {},
     "output_type": "execute_result"
    }
   ],
   "source": [
    "a2e.size # 2D array"
   ]
  },
  {
   "cell_type": "code",
   "execution_count": 30,
   "id": "0c666d7b",
   "metadata": {},
   "outputs": [
    {
     "data": {
      "text/plain": [
       "28"
      ]
     },
     "execution_count": 30,
     "metadata": {},
     "output_type": "execute_result"
    }
   ],
   "source": [
    "a3d.size # 3D array"
   ]
  },
  {
   "cell_type": "markdown",
   "id": "9aec8518",
   "metadata": {},
   "source": [
    "#### Shape\n",
    "- Shape gives the dimension of the array"
   ]
  },
  {
   "cell_type": "code",
   "execution_count": 31,
   "id": "a3d2b42a",
   "metadata": {},
   "outputs": [
    {
     "data": {
      "text/plain": [
       "(5,)"
      ]
     },
     "execution_count": 31,
     "metadata": {},
     "output_type": "execute_result"
    }
   ],
   "source": [
    "a1a.shape #1D array"
   ]
  },
  {
   "cell_type": "code",
   "execution_count": 32,
   "id": "47416ebc",
   "metadata": {
    "scrolled": true
   },
   "outputs": [
    {
     "data": {
      "text/plain": [
       "(5, 5)"
      ]
     },
     "execution_count": 32,
     "metadata": {},
     "output_type": "execute_result"
    }
   ],
   "source": [
    "a2f.shape # 2D array"
   ]
  },
  {
   "cell_type": "code",
   "execution_count": 33,
   "id": "d6da0453",
   "metadata": {},
   "outputs": [
    {
     "data": {
      "text/plain": [
       "(2, 5, 5)"
      ]
     },
     "execution_count": 33,
     "metadata": {},
     "output_type": "execute_result"
    }
   ],
   "source": [
    "a3e.shape # 3D array"
   ]
  },
  {
   "cell_type": "markdown",
   "id": "59ef7449",
   "metadata": {},
   "source": [
    "#### Type\n",
    "- Type tells us about the type of the array. ndarray means n dimensional array"
   ]
  },
  {
   "cell_type": "code",
   "execution_count": 34,
   "id": "bc08acb2",
   "metadata": {},
   "outputs": [
    {
     "data": {
      "text/plain": [
       "numpy.ndarray"
      ]
     },
     "execution_count": 34,
     "metadata": {},
     "output_type": "execute_result"
    }
   ],
   "source": [
    "type(a1a) # 1D array"
   ]
  },
  {
   "cell_type": "code",
   "execution_count": 35,
   "id": "2c19a002",
   "metadata": {},
   "outputs": [
    {
     "data": {
      "text/plain": [
       "numpy.ndarray"
      ]
     },
     "execution_count": 35,
     "metadata": {},
     "output_type": "execute_result"
    }
   ],
   "source": [
    "type(a2h) # 2D array"
   ]
  },
  {
   "cell_type": "code",
   "execution_count": 36,
   "id": "f98df995",
   "metadata": {},
   "outputs": [
    {
     "data": {
      "text/plain": [
       "numpy.ndarray"
      ]
     },
     "execution_count": 36,
     "metadata": {},
     "output_type": "execute_result"
    }
   ],
   "source": [
    "type(a3d) # 3D array"
   ]
  },
  {
   "cell_type": "markdown",
   "id": "c61b5245",
   "metadata": {},
   "source": [
    "#### Data Type\n",
    "- dtype tells about the data type of the array"
   ]
  },
  {
   "cell_type": "code",
   "execution_count": 37,
   "id": "b56585e2",
   "metadata": {},
   "outputs": [
    {
     "data": {
      "text/plain": [
       "dtype('int32')"
      ]
     },
     "execution_count": 37,
     "metadata": {},
     "output_type": "execute_result"
    }
   ],
   "source": [
    "a1a.dtype # 1D array"
   ]
  },
  {
   "cell_type": "code",
   "execution_count": 38,
   "id": "d5de5e05",
   "metadata": {},
   "outputs": [
    {
     "data": {
      "text/plain": [
       "dtype('int32')"
      ]
     },
     "execution_count": 38,
     "metadata": {},
     "output_type": "execute_result"
    }
   ],
   "source": [
    "a2f.dtype # 2D array"
   ]
  },
  {
   "cell_type": "code",
   "execution_count": 39,
   "id": "f70c1f8a",
   "metadata": {},
   "outputs": [
    {
     "data": {
      "text/plain": [
       "dtype('float64')"
      ]
     },
     "execution_count": 39,
     "metadata": {},
     "output_type": "execute_result"
    }
   ],
   "source": [
    "a3g.dtype # 3D array"
   ]
  },
  {
   "cell_type": "markdown",
   "id": "1e33ebdf",
   "metadata": {},
   "source": [
    "#### Dimension\n",
    "- ndim function is used to know the dimension of a numpy array"
   ]
  },
  {
   "cell_type": "code",
   "execution_count": 40,
   "id": "44a35de5",
   "metadata": {},
   "outputs": [
    {
     "data": {
      "text/plain": [
       "1"
      ]
     },
     "execution_count": 40,
     "metadata": {},
     "output_type": "execute_result"
    }
   ],
   "source": [
    "a1a.ndim "
   ]
  },
  {
   "cell_type": "code",
   "execution_count": 81,
   "id": "3e726c56",
   "metadata": {},
   "outputs": [
    {
     "data": {
      "text/plain": [
       "2"
      ]
     },
     "execution_count": 81,
     "metadata": {},
     "output_type": "execute_result"
    }
   ],
   "source": [
    "a2a.ndim"
   ]
  },
  {
   "cell_type": "code",
   "execution_count": 82,
   "id": "6b7b3cbc",
   "metadata": {},
   "outputs": [
    {
     "data": {
      "text/plain": [
       "3"
      ]
     },
     "execution_count": 82,
     "metadata": {},
     "output_type": "execute_result"
    }
   ],
   "source": [
    "a3a.ndim"
   ]
  },
  {
   "cell_type": "markdown",
   "id": "e00c8bd0",
   "metadata": {},
   "source": [
    "## How to change DataType ?\n",
    "There are many datatypes like int, float, double, bool.\n",
    "- astype is used to change the datatype of ndarray"
   ]
  },
  {
   "cell_type": "code",
   "execution_count": 41,
   "id": "be242a81",
   "metadata": {},
   "outputs": [
    {
     "data": {
      "text/plain": [
       "array([1., 2., 3., 4., 5.], dtype=float16)"
      ]
     },
     "execution_count": 41,
     "metadata": {},
     "output_type": "execute_result"
    }
   ],
   "source": [
    "a1a.astype(np.float16) #float16 means 16 bits floating point numbers (1D array)"
   ]
  },
  {
   "cell_type": "code",
   "execution_count": 42,
   "id": "91dea1f7",
   "metadata": {},
   "outputs": [
    {
     "data": {
      "text/plain": [
       "array([1, 2, 3, 4, 5], dtype=uint32)"
      ]
     },
     "execution_count": 42,
     "metadata": {},
     "output_type": "execute_result"
    }
   ],
   "source": [
    "a1a.astype(np.uint32) #uint is unsigned integer and 32 is the 32 bits"
   ]
  },
  {
   "cell_type": "code",
   "execution_count": 43,
   "id": "3f4432e7",
   "metadata": {},
   "outputs": [
    {
     "data": {
      "text/plain": [
       "array([[1, 0, 0, 0],\n",
       "       [0, 1, 0, 0],\n",
       "       [0, 0, 1, 0],\n",
       "       [0, 0, 0, 1]], dtype=uint8)"
      ]
     },
     "execution_count": 43,
     "metadata": {},
     "output_type": "execute_result"
    }
   ],
   "source": [
    "a2g.astype(np.uint8) # 2D array"
   ]
  },
  {
   "cell_type": "code",
   "execution_count": 44,
   "id": "5f8580d8",
   "metadata": {},
   "outputs": [
    {
     "data": {
      "text/plain": [
       "array([[[0.26341879, 0.50055969, 0.81951534],\n",
       "        [0.02346514, 0.67636781, 0.39886443],\n",
       "        [0.37597612, 0.57064326, 0.82749506],\n",
       "        [0.3126915 , 0.49707049, 0.21682798]],\n",
       "\n",
       "       [[0.97971177, 0.18692455, 0.43781019],\n",
       "        [0.68223173, 0.58175934, 0.30652476],\n",
       "        [0.50924333, 0.11087383, 0.95899054],\n",
       "        [0.53934685, 0.96589934, 0.37428034]],\n",
       "\n",
       "       [[0.18719464, 0.21329647, 0.05362497],\n",
       "        [0.77539499, 0.89481268, 0.13077001],\n",
       "        [0.80274577, 0.30550153, 0.84763637],\n",
       "        [0.05478349, 0.05768798, 0.00130087]]])"
      ]
     },
     "execution_count": 44,
     "metadata": {},
     "output_type": "execute_result"
    }
   ],
   "source": [
    "a3g.astype(np.float64)"
   ]
  },
  {
   "cell_type": "code",
   "execution_count": 45,
   "id": "79c9c48d",
   "metadata": {},
   "outputs": [
    {
     "data": {
      "text/plain": [
       "array([[[0, 0, 0],\n",
       "        [0, 0, 0],\n",
       "        [0, 0, 0],\n",
       "        [0, 0, 0]],\n",
       "\n",
       "       [[0, 0, 0],\n",
       "        [0, 0, 0],\n",
       "        [0, 0, 0],\n",
       "        [0, 0, 0]],\n",
       "\n",
       "       [[0, 0, 0],\n",
       "        [0, 0, 0],\n",
       "        [0, 0, 0],\n",
       "        [0, 0, 0]]])"
      ]
     },
     "execution_count": 45,
     "metadata": {},
     "output_type": "execute_result"
    }
   ],
   "source": [
    "a3g.astype(np.int_) #int_ means long int"
   ]
  },
  {
   "cell_type": "markdown",
   "id": "10d33452",
   "metadata": {},
   "source": [
    "## *Indexing and Slicing*\n",
    "- Indexing is used to get a subpart of array\n",
    "*Note that : Staring index of every array is 0 if we move in forward direction\n",
    "- Starting Index is -1 in case of backward direction"
   ]
  },
  {
   "cell_type": "markdown",
   "id": "60f5b7d3",
   "metadata": {},
   "source": [
    "### Indexing of 1D arrays"
   ]
  },
  {
   "cell_type": "code",
   "execution_count": 46,
   "id": "aba621cd",
   "metadata": {},
   "outputs": [
    {
     "data": {
      "text/plain": [
       "array([1, 2, 3, 4, 5])"
      ]
     },
     "execution_count": 46,
     "metadata": {},
     "output_type": "execute_result"
    }
   ],
   "source": [
    "a1a"
   ]
  },
  {
   "cell_type": "code",
   "execution_count": 47,
   "id": "eb100d44",
   "metadata": {
    "scrolled": true
   },
   "outputs": [
    {
     "data": {
      "text/plain": [
       "1"
      ]
     },
     "execution_count": 47,
     "metadata": {},
     "output_type": "execute_result"
    }
   ],
   "source": [
    "# print the first element from array\n",
    "a1a[0]"
   ]
  },
  {
   "cell_type": "code",
   "execution_count": 48,
   "id": "377db6dc",
   "metadata": {},
   "outputs": [
    {
     "data": {
      "text/plain": [
       "3"
      ]
     },
     "execution_count": 48,
     "metadata": {},
     "output_type": "execute_result"
    }
   ],
   "source": [
    "# print the 3rd element from array\n",
    "a1a[2]"
   ]
  },
  {
   "cell_type": "code",
   "execution_count": 49,
   "id": "b7909583",
   "metadata": {},
   "outputs": [
    {
     "data": {
      "text/plain": [
       "5"
      ]
     },
     "execution_count": 49,
     "metadata": {},
     "output_type": "execute_result"
    }
   ],
   "source": [
    "# print the last element from array\n",
    "a1a[-1] #-1 "
   ]
  },
  {
   "cell_type": "code",
   "execution_count": 50,
   "id": "17358a14",
   "metadata": {},
   "outputs": [
    {
     "data": {
      "text/plain": [
       "4"
      ]
     },
     "execution_count": 50,
     "metadata": {},
     "output_type": "execute_result"
    }
   ],
   "source": [
    "# print the second last element from array\n",
    "a1a[-2]"
   ]
  },
  {
   "cell_type": "code",
   "execution_count": 51,
   "id": "dca1953b",
   "metadata": {},
   "outputs": [
    {
     "data": {
      "text/plain": [
       "array([1, 2, 3])"
      ]
     },
     "execution_count": 51,
     "metadata": {},
     "output_type": "execute_result"
    }
   ],
   "source": [
    "# print the 1st three element from array\n",
    "a1a[0:3] # Note that the 3 index in not included. the elements at index 0,1, and 2 will be print."
   ]
  },
  {
   "cell_type": "code",
   "execution_count": 52,
   "id": "4d6beb44",
   "metadata": {},
   "outputs": [
    {
     "data": {
      "text/plain": [
       "array([2, 3, 4, 5])"
      ]
     },
     "execution_count": 52,
     "metadata": {},
     "output_type": "execute_result"
    }
   ],
   "source": [
    "# print the last 4 element from array\n",
    "a1a[-4:]"
   ]
  },
  {
   "cell_type": "code",
   "execution_count": 53,
   "id": "4b8995ac",
   "metadata": {},
   "outputs": [
    {
     "data": {
      "text/plain": [
       "array([5, 4, 3, 2, 1])"
      ]
     },
     "execution_count": 53,
     "metadata": {},
     "output_type": "execute_result"
    }
   ],
   "source": [
    "# reverse the sequence of elements of array\n",
    "temp = a1a[::-1] #This prints the elements of index -1 -2 -3 -4 -5. starting index is 0 so 0-1=-1 and it prints 5. -1-1=-2 and it prints 4 and so on...\n",
    "temp"
   ]
  },
  {
   "cell_type": "code",
   "execution_count": 83,
   "id": "dec9b50f",
   "metadata": {},
   "outputs": [
    {
     "data": {
      "text/plain": [
       "array([5, 4, 3, 2, 1])"
      ]
     },
     "execution_count": 83,
     "metadata": {},
     "output_type": "execute_result"
    }
   ],
   "source": [
    "#Another function named np.flip is used to reverse a numpy array\n",
    "tem = np.flip(a1a)\n",
    "tem"
   ]
  },
  {
   "cell_type": "markdown",
   "id": "8d4d388b",
   "metadata": {},
   "source": [
    "### Indexing of 2D arrays"
   ]
  },
  {
   "cell_type": "code",
   "execution_count": 54,
   "id": "e895fc83",
   "metadata": {},
   "outputs": [
    {
     "data": {
      "text/plain": [
       "array([[ 1,  2,  3,  4],\n",
       "       [ 5,  6,  7,  8],\n",
       "       [ 9, 10, 11, 12]])"
      ]
     },
     "execution_count": 54,
     "metadata": {},
     "output_type": "execute_result"
    }
   ],
   "source": [
    "a2a"
   ]
  },
  {
   "cell_type": "code",
   "execution_count": 55,
   "id": "d7430304",
   "metadata": {},
   "outputs": [
    {
     "data": {
      "text/plain": [
       "array([1, 2, 3, 4])"
      ]
     },
     "execution_count": 55,
     "metadata": {},
     "output_type": "execute_result"
    }
   ],
   "source": [
    "#Print the first index elements \n",
    "a2a[0]"
   ]
  },
  {
   "cell_type": "code",
   "execution_count": 56,
   "id": "5c4d8499",
   "metadata": {},
   "outputs": [
    {
     "data": {
      "text/plain": [
       "2"
      ]
     },
     "execution_count": 56,
     "metadata": {},
     "output_type": "execute_result"
    }
   ],
   "source": [
    "# Print the 2nd element of index 0\n",
    "a2a[0,1]"
   ]
  },
  {
   "cell_type": "code",
   "execution_count": 57,
   "id": "022d0218",
   "metadata": {},
   "outputs": [
    {
     "data": {
      "text/plain": [
       "2"
      ]
     },
     "execution_count": 57,
     "metadata": {},
     "output_type": "execute_result"
    }
   ],
   "source": [
    "# Another way to print the 2nd element of index 0\n",
    "a2a[0][1]"
   ]
  },
  {
   "cell_type": "code",
   "execution_count": 58,
   "id": "de87b78b",
   "metadata": {},
   "outputs": [
    {
     "data": {
      "text/plain": [
       "array([[1, 2, 3, 4],\n",
       "       [5, 6, 7, 8]])"
      ]
     },
     "execution_count": 58,
     "metadata": {},
     "output_type": "execute_result"
    }
   ],
   "source": [
    "#Print 1st two arrays from a matrix\n",
    "a2a[0:2]"
   ]
  },
  {
   "cell_type": "code",
   "execution_count": 59,
   "id": "39cb188b",
   "metadata": {},
   "outputs": [
    {
     "data": {
      "text/plain": [
       "array([1, 5, 9])"
      ]
     },
     "execution_count": 59,
     "metadata": {},
     "output_type": "execute_result"
    }
   ],
   "source": [
    "# Print only 1st elements of the every row\n",
    "a2a[:,0]"
   ]
  },
  {
   "cell_type": "code",
   "execution_count": 60,
   "id": "37304e2c",
   "metadata": {},
   "outputs": [
    {
     "data": {
      "text/plain": [
       "6"
      ]
     },
     "execution_count": 60,
     "metadata": {},
     "output_type": "execute_result"
    }
   ],
   "source": [
    "#print 6 number from the matrix\n",
    "a2a[1,1]"
   ]
  },
  {
   "cell_type": "code",
   "execution_count": 61,
   "id": "1984446c",
   "metadata": {},
   "outputs": [
    {
     "data": {
      "text/plain": [
       "array([ 3,  7, 11])"
      ]
     },
     "execution_count": 61,
     "metadata": {},
     "output_type": "execute_result"
    }
   ],
   "source": [
    "#Print 3rd element of every row\n",
    "a2a[:,2]"
   ]
  },
  {
   "cell_type": "code",
   "execution_count": 85,
   "id": "cf55ff23",
   "metadata": {},
   "outputs": [
    {
     "data": {
      "text/plain": [
       "array([[12, 11, 10,  9],\n",
       "       [ 8,  7,  6,  5],\n",
       "       [ 4,  3,  2,  1]])"
      ]
     },
     "execution_count": 85,
     "metadata": {},
     "output_type": "execute_result"
    }
   ],
   "source": [
    "# Reverse the order of the arrray\n",
    "rev_arr = np.flip(a2a)\n",
    "rev_arr"
   ]
  },
  {
   "cell_type": "markdown",
   "id": "b8c4aeaa",
   "metadata": {},
   "source": [
    "### Indexing of 3D arrays"
   ]
  },
  {
   "cell_type": "code",
   "execution_count": 62,
   "id": "293e7a32",
   "metadata": {
    "scrolled": true
   },
   "outputs": [
    {
     "data": {
      "text/plain": [
       "array([[[1, 2, 3],\n",
       "        [3, 2, 1],\n",
       "        [4, 5, 6]],\n",
       "\n",
       "       [[7, 8, 9],\n",
       "        [9, 8, 7],\n",
       "        [6, 5, 4]],\n",
       "\n",
       "       [[9, 5, 1],\n",
       "        [1, 5, 2],\n",
       "        [8, 3, 2]]])"
      ]
     },
     "execution_count": 62,
     "metadata": {},
     "output_type": "execute_result"
    }
   ],
   "source": [
    "a3a"
   ]
  },
  {
   "cell_type": "code",
   "execution_count": 63,
   "id": "b57cba39",
   "metadata": {},
   "outputs": [
    {
     "data": {
      "text/plain": [
       "array([[[1, 2, 3],\n",
       "        [3, 2, 1],\n",
       "        [4, 5, 6]],\n",
       "\n",
       "       [[7, 8, 9],\n",
       "        [9, 8, 7],\n",
       "        [6, 5, 4]]])"
      ]
     },
     "execution_count": 63,
     "metadata": {},
     "output_type": "execute_result"
    }
   ],
   "source": [
    "#Print 1st two 2D arrays\n",
    "a3a[0:2]"
   ]
  },
  {
   "cell_type": "code",
   "execution_count": 64,
   "id": "4e65b4da",
   "metadata": {},
   "outputs": [
    {
     "data": {
      "text/plain": [
       "array([[3, 2, 1],\n",
       "       [9, 8, 7],\n",
       "       [1, 5, 2]])"
      ]
     },
     "execution_count": 64,
     "metadata": {},
     "output_type": "execute_result"
    }
   ],
   "source": [
    "#Print 2nd row only of all the arrays\n",
    "a3a[:,1,:]"
   ]
  },
  {
   "cell_type": "code",
   "execution_count": 65,
   "id": "5223fb88",
   "metadata": {},
   "outputs": [
    {
     "data": {
      "text/plain": [
       "array([[2, 2, 5],\n",
       "       [8, 8, 5],\n",
       "       [5, 5, 3]])"
      ]
     },
     "execution_count": 65,
     "metadata": {},
     "output_type": "execute_result"
    }
   ],
   "source": [
    "#Print 2nd col only of all the arrays\n",
    "a3a[:,:,1]"
   ]
  },
  {
   "cell_type": "code",
   "execution_count": 66,
   "id": "644c1e41",
   "metadata": {},
   "outputs": [
    {
     "data": {
      "text/plain": [
       "6"
      ]
     },
     "execution_count": 66,
     "metadata": {},
     "output_type": "execute_result"
    }
   ],
   "source": [
    "#print number '6' from array\n",
    "a3a[0,2,2]"
   ]
  },
  {
   "cell_type": "code",
   "execution_count": 87,
   "id": "7f9a4b2a",
   "metadata": {},
   "outputs": [
    {
     "data": {
      "text/plain": [
       "array([[[2, 3, 8],\n",
       "        [2, 5, 1],\n",
       "        [1, 5, 9]],\n",
       "\n",
       "       [[4, 5, 6],\n",
       "        [7, 8, 9],\n",
       "        [9, 8, 7]],\n",
       "\n",
       "       [[6, 5, 4],\n",
       "        [1, 2, 3],\n",
       "        [3, 2, 1]]])"
      ]
     },
     "execution_count": 87,
     "metadata": {},
     "output_type": "execute_result"
    }
   ],
   "source": [
    "#Reverse the array\n",
    "rev_arr2 = np.flip(a3a)\n",
    "rev_arr2"
   ]
  },
  {
   "cell_type": "markdown",
   "id": "d5d64dc1",
   "metadata": {},
   "source": [
    "## *How to change the Dimension of the array?*\n",
    "- We can do it manually as well as by using expand_dims function "
   ]
  },
  {
   "cell_type": "markdown",
   "id": "f96232f4",
   "metadata": {},
   "source": [
    "### Change 1D array to 2D array"
   ]
  },
  {
   "cell_type": "code",
   "execution_count": 67,
   "id": "3ae24bb6",
   "metadata": {},
   "outputs": [
    {
     "data": {
      "text/plain": [
       "array([[1, 2, 3, 4, 5]])"
      ]
     },
     "execution_count": 67,
     "metadata": {},
     "output_type": "execute_result"
    }
   ],
   "source": [
    "#Row wise Expansion (axis = 0)\n",
    "temp2 = a1a[np.newaxis,:] \n",
    "temp2"
   ]
  },
  {
   "cell_type": "code",
   "execution_count": 68,
   "id": "34d24435",
   "metadata": {},
   "outputs": [
    {
     "data": {
      "text/plain": [
       "(1, 5)"
      ]
     },
     "execution_count": 68,
     "metadata": {},
     "output_type": "execute_result"
    }
   ],
   "source": [
    "temp2.shape"
   ]
  },
  {
   "cell_type": "code",
   "execution_count": 117,
   "id": "15064533",
   "metadata": {},
   "outputs": [
    {
     "data": {
      "text/plain": [
       "array([[1, 2, 3, 4, 5]])"
      ]
     },
     "execution_count": 117,
     "metadata": {},
     "output_type": "execute_result"
    }
   ],
   "source": [
    "# Expand_dims function\n",
    "exp1 = np.expand_dims(a1a,axis=0)\n",
    "exp1"
   ]
  },
  {
   "cell_type": "code",
   "execution_count": 118,
   "id": "ac60f043",
   "metadata": {},
   "outputs": [
    {
     "data": {
      "text/plain": [
       "(1, 5)"
      ]
     },
     "execution_count": 118,
     "metadata": {},
     "output_type": "execute_result"
    }
   ],
   "source": [
    "exp1.shape"
   ]
  },
  {
   "cell_type": "code",
   "execution_count": 69,
   "id": "7c8ad303",
   "metadata": {},
   "outputs": [
    {
     "data": {
      "text/plain": [
       "array([[1],\n",
       "       [2],\n",
       "       [3],\n",
       "       [4],\n",
       "       [5]])"
      ]
     },
     "execution_count": 69,
     "metadata": {},
     "output_type": "execute_result"
    }
   ],
   "source": [
    "#Column wise Expansion (axis = 1)\n",
    "temp3 = a1a[:,np.newaxis]\n",
    "temp3"
   ]
  },
  {
   "cell_type": "code",
   "execution_count": 70,
   "id": "ebb84746",
   "metadata": {
    "scrolled": true
   },
   "outputs": [
    {
     "data": {
      "text/plain": [
       "(5, 1)"
      ]
     },
     "execution_count": 70,
     "metadata": {},
     "output_type": "execute_result"
    }
   ],
   "source": [
    "temp3.shape"
   ]
  },
  {
   "cell_type": "code",
   "execution_count": 119,
   "id": "a18f8796",
   "metadata": {},
   "outputs": [
    {
     "data": {
      "text/plain": [
       "array([[1],\n",
       "       [2],\n",
       "       [3],\n",
       "       [4],\n",
       "       [5]])"
      ]
     },
     "execution_count": 119,
     "metadata": {},
     "output_type": "execute_result"
    }
   ],
   "source": [
    "# Expand_dims function\n",
    "exp2 = np.expand_dims(a1a,axis=1)\n",
    "exp2"
   ]
  },
  {
   "cell_type": "code",
   "execution_count": 120,
   "id": "9aae4fb7",
   "metadata": {},
   "outputs": [
    {
     "data": {
      "text/plain": [
       "(5, 1)"
      ]
     },
     "execution_count": 120,
     "metadata": {},
     "output_type": "execute_result"
    }
   ],
   "source": [
    "exp2.shape"
   ]
  },
  {
   "cell_type": "markdown",
   "id": "9e3fe91c",
   "metadata": {},
   "source": [
    "### Change 2D array to 3D array"
   ]
  },
  {
   "cell_type": "code",
   "execution_count": 71,
   "id": "2862b015",
   "metadata": {},
   "outputs": [
    {
     "data": {
      "text/plain": [
       "array([[[ 1,  2,  3,  4],\n",
       "        [ 5,  6,  7,  8],\n",
       "        [ 9, 10, 11, 12]]])"
      ]
     },
     "execution_count": 71,
     "metadata": {},
     "output_type": "execute_result"
    }
   ],
   "source": [
    "#Row wise Expansion (axis = 0)\n",
    "temp4 = a2a[np.newaxis,:] \n",
    "temp4"
   ]
  },
  {
   "cell_type": "code",
   "execution_count": 72,
   "id": "f71f53ff",
   "metadata": {
    "scrolled": true
   },
   "outputs": [
    {
     "data": {
      "text/plain": [
       "(1, 3, 4)"
      ]
     },
     "execution_count": 72,
     "metadata": {},
     "output_type": "execute_result"
    }
   ],
   "source": [
    "temp4.shape"
   ]
  },
  {
   "cell_type": "code",
   "execution_count": 121,
   "id": "ab618d89",
   "metadata": {},
   "outputs": [
    {
     "data": {
      "text/plain": [
       "array([[[ 1,  2,  3,  4],\n",
       "        [ 5,  6,  7,  8],\n",
       "        [ 9, 10, 11, 12]]])"
      ]
     },
     "execution_count": 121,
     "metadata": {},
     "output_type": "execute_result"
    }
   ],
   "source": [
    "# Expand_dims function\n",
    "exp3 = np.expand_dims(a2a,axis=0)\n",
    "exp3"
   ]
  },
  {
   "cell_type": "code",
   "execution_count": 122,
   "id": "b0fef25d",
   "metadata": {},
   "outputs": [
    {
     "data": {
      "text/plain": [
       "(1, 3, 4)"
      ]
     },
     "execution_count": 122,
     "metadata": {},
     "output_type": "execute_result"
    }
   ],
   "source": [
    "exp3.shape"
   ]
  },
  {
   "cell_type": "code",
   "execution_count": 73,
   "id": "a38619b5",
   "metadata": {},
   "outputs": [
    {
     "data": {
      "text/plain": [
       "array([[[ 1,  2,  3,  4]],\n",
       "\n",
       "       [[ 5,  6,  7,  8]],\n",
       "\n",
       "       [[ 9, 10, 11, 12]]])"
      ]
     },
     "execution_count": 73,
     "metadata": {},
     "output_type": "execute_result"
    }
   ],
   "source": [
    "#Column wise Expansion (axis = 1)\n",
    "temp5 = a2a[:,np.newaxis]\n",
    "temp5"
   ]
  },
  {
   "cell_type": "code",
   "execution_count": 74,
   "id": "25f538fd",
   "metadata": {},
   "outputs": [
    {
     "data": {
      "text/plain": [
       "(3, 1, 4)"
      ]
     },
     "execution_count": 74,
     "metadata": {},
     "output_type": "execute_result"
    }
   ],
   "source": [
    "temp5.shape"
   ]
  },
  {
   "cell_type": "code",
   "execution_count": 123,
   "id": "c3a7a845",
   "metadata": {},
   "outputs": [
    {
     "data": {
      "text/plain": [
       "array([[[ 1,  2,  3,  4]],\n",
       "\n",
       "       [[ 5,  6,  7,  8]],\n",
       "\n",
       "       [[ 9, 10, 11, 12]]])"
      ]
     },
     "execution_count": 123,
     "metadata": {},
     "output_type": "execute_result"
    }
   ],
   "source": [
    "# Expand_dims function\n",
    "exp4 = np.expand_dims(a2a,axis=1)\n",
    "exp4"
   ]
  },
  {
   "cell_type": "code",
   "execution_count": 125,
   "id": "0da52690",
   "metadata": {},
   "outputs": [
    {
     "data": {
      "text/plain": [
       "(3, 1, 4)"
      ]
     },
     "execution_count": 125,
     "metadata": {},
     "output_type": "execute_result"
    }
   ],
   "source": [
    "exp4.shape"
   ]
  },
  {
   "cell_type": "markdown",
   "id": "4cc219f0",
   "metadata": {},
   "source": [
    "### Change 3D array to 4D array"
   ]
  },
  {
   "cell_type": "code",
   "execution_count": 75,
   "id": "f5ea6575",
   "metadata": {
    "scrolled": true
   },
   "outputs": [
    {
     "data": {
      "text/plain": [
       "array([[[[1, 2, 3],\n",
       "         [3, 2, 1],\n",
       "         [4, 5, 6]],\n",
       "\n",
       "        [[7, 8, 9],\n",
       "         [9, 8, 7],\n",
       "         [6, 5, 4]],\n",
       "\n",
       "        [[9, 5, 1],\n",
       "         [1, 5, 2],\n",
       "         [8, 3, 2]]]])"
      ]
     },
     "execution_count": 75,
     "metadata": {},
     "output_type": "execute_result"
    }
   ],
   "source": [
    "temp6 = a3a[np.newaxis,:,:]\n",
    "temp6"
   ]
  },
  {
   "cell_type": "code",
   "execution_count": 76,
   "id": "86efd55c",
   "metadata": {},
   "outputs": [
    {
     "data": {
      "text/plain": [
       "array([[[[1, 2, 3],\n",
       "         [3, 2, 1],\n",
       "         [4, 5, 6]]],\n",
       "\n",
       "\n",
       "       [[[7, 8, 9],\n",
       "         [9, 8, 7],\n",
       "         [6, 5, 4]]],\n",
       "\n",
       "\n",
       "       [[[9, 5, 1],\n",
       "         [1, 5, 2],\n",
       "         [8, 3, 2]]]])"
      ]
     },
     "execution_count": 76,
     "metadata": {},
     "output_type": "execute_result"
    }
   ],
   "source": [
    "temp7 = a3a[:,np.newaxis,:]\n",
    "temp7"
   ]
  },
  {
   "cell_type": "code",
   "execution_count": 77,
   "id": "2d592894",
   "metadata": {},
   "outputs": [
    {
     "data": {
      "text/plain": [
       "array([[[[1, 2, 3]],\n",
       "\n",
       "        [[3, 2, 1]],\n",
       "\n",
       "        [[4, 5, 6]]],\n",
       "\n",
       "\n",
       "       [[[7, 8, 9]],\n",
       "\n",
       "        [[9, 8, 7]],\n",
       "\n",
       "        [[6, 5, 4]]],\n",
       "\n",
       "\n",
       "       [[[9, 5, 1]],\n",
       "\n",
       "        [[1, 5, 2]],\n",
       "\n",
       "        [[8, 3, 2]]]])"
      ]
     },
     "execution_count": 77,
     "metadata": {},
     "output_type": "execute_result"
    }
   ],
   "source": [
    "temp8 = a3a[:,:,np.newaxis]\n",
    "temp8"
   ]
  },
  {
   "cell_type": "code",
   "execution_count": 78,
   "id": "b555e708",
   "metadata": {},
   "outputs": [
    {
     "data": {
      "text/plain": [
       "(1, 3, 3, 3)"
      ]
     },
     "execution_count": 78,
     "metadata": {},
     "output_type": "execute_result"
    }
   ],
   "source": [
    "temp6.shape"
   ]
  },
  {
   "cell_type": "code",
   "execution_count": 79,
   "id": "72f18126",
   "metadata": {},
   "outputs": [
    {
     "data": {
      "text/plain": [
       "(3, 1, 3, 3)"
      ]
     },
     "execution_count": 79,
     "metadata": {},
     "output_type": "execute_result"
    }
   ],
   "source": [
    "temp7.shape"
   ]
  },
  {
   "cell_type": "code",
   "execution_count": 80,
   "id": "fee671ae",
   "metadata": {},
   "outputs": [
    {
     "data": {
      "text/plain": [
       "(3, 3, 1, 3)"
      ]
     },
     "execution_count": 80,
     "metadata": {},
     "output_type": "execute_result"
    }
   ],
   "source": [
    "temp8.shape"
   ]
  },
  {
   "cell_type": "markdown",
   "id": "2b35b271",
   "metadata": {},
   "source": [
    "## *How to reduce dimension of an array?*\n",
    "Easy and famous methods to reduce the dimension of an array are:\n",
    "- np.array.reshape method\n",
    "- np.array.flatten method\n",
    "- np.array.ravel method\n",
    "- flatten and ravel methods are used to convert the array into 1D array or vector"
   ]
  },
  {
   "cell_type": "markdown",
   "id": "3f91ff8e",
   "metadata": {},
   "source": [
    "### converting 4D array to 3D array"
   ]
  },
  {
   "cell_type": "code",
   "execution_count": 92,
   "id": "92b7241b",
   "metadata": {},
   "outputs": [
    {
     "data": {
      "text/plain": [
       "array([[[1, 2, 3],\n",
       "        [3, 2, 1],\n",
       "        [4, 5, 6]],\n",
       "\n",
       "       [[7, 8, 9],\n",
       "        [9, 8, 7],\n",
       "        [6, 5, 4]],\n",
       "\n",
       "       [[9, 5, 1],\n",
       "        [1, 5, 2],\n",
       "        [8, 3, 2]]])"
      ]
     },
     "execution_count": 92,
     "metadata": {},
     "output_type": "execute_result"
    }
   ],
   "source": [
    "#Using reshape method\n",
    "t1 = temp6.reshape(3,3,3)\n",
    "t1"
   ]
  },
  {
   "cell_type": "markdown",
   "id": "33302779",
   "metadata": {},
   "source": [
    "### Converting 3D to 2D"
   ]
  },
  {
   "cell_type": "code",
   "execution_count": 110,
   "id": "c4c9faa8",
   "metadata": {},
   "outputs": [
    {
     "data": {
      "text/plain": [
       "array([[1, 2, 3, 3, 2, 1, 4, 5, 6],\n",
       "       [7, 8, 9, 9, 8, 7, 6, 5, 4],\n",
       "       [9, 5, 1, 1, 5, 2, 8, 3, 2]])"
      ]
     },
     "execution_count": 110,
     "metadata": {},
     "output_type": "execute_result"
    }
   ],
   "source": [
    "t4 = a3a.reshape(a3a.shape[0],a3a.shape[1]*a3a.shape[2]) # This is equal to (3,9) because 3*9 = 3*3*3\n",
    "t4"
   ]
  },
  {
   "cell_type": "markdown",
   "id": "ed19c16c",
   "metadata": {},
   "source": [
    "### Converting 2D or higher array to 1D array\n",
    "- flatten and ravel is best method to do so"
   ]
  },
  {
   "cell_type": "code",
   "execution_count": 111,
   "id": "c76784ea",
   "metadata": {},
   "outputs": [
    {
     "data": {
      "text/plain": [
       "array([1, 2, 3, 3, 2, 1, 4, 5, 6, 7, 8, 9, 9, 8, 7, 6, 5, 4, 9, 5, 1, 1,\n",
       "       5, 2, 8, 3, 2])"
      ]
     },
     "execution_count": 111,
     "metadata": {},
     "output_type": "execute_result"
    }
   ],
   "source": [
    "t2 = temp8.flatten()\n",
    "t2"
   ]
  },
  {
   "cell_type": "code",
   "execution_count": 115,
   "id": "167cd854",
   "metadata": {},
   "outputs": [
    {
     "data": {
      "text/plain": [
       "array([32, 19, 64, 40, 23,  6, 31, 82, 58, 79, 57, 91, 42, 20, 50, 27,  8,\n",
       "       49,  0, 43, 41, 89, 12, 82, 70, 91, 35, 89, 50, 43, 75, 45, 51, 59,\n",
       "       75, 90, 46, 71, 69, 69, 21, 39, 60, 37, 12, 67, 58, 50, 52, 23, 77,\n",
       "       86, 48, 88, 46, 97,  7, 51, 43,  5, 52, 72, 60, 17, 86, 82, 25, 58,\n",
       "       92, 30, 61, 16])"
      ]
     },
     "execution_count": 115,
     "metadata": {},
     "output_type": "execute_result"
    }
   ],
   "source": [
    "t3 = a3f.ravel()\n",
    "t3"
   ]
  },
  {
   "cell_type": "markdown",
   "id": "4271723a",
   "metadata": {},
   "source": [
    "## *How to find unique elements from array?*"
   ]
  },
  {
   "cell_type": "code",
   "execution_count": 127,
   "id": "c9c2258a",
   "metadata": {},
   "outputs": [
    {
     "data": {
      "text/plain": [
       "array([ 0,  5,  6,  7,  8, 12, 16, 17, 19, 20, 21, 23, 25, 27, 30, 31, 32,\n",
       "       35, 37, 39, 40, 41, 42, 43, 45, 46, 48, 49, 50, 51, 52, 57, 58, 59,\n",
       "       60, 61, 64, 67, 69, 70, 71, 72, 75, 77, 79, 82, 86, 88, 89, 90, 91,\n",
       "       92, 97])"
      ]
     },
     "execution_count": 127,
     "metadata": {},
     "output_type": "execute_result"
    }
   ],
   "source": [
    "uni1 = np.unique(t3)\n",
    "uni1"
   ]
  },
  {
   "cell_type": "code",
   "execution_count": 128,
   "id": "702c885f",
   "metadata": {},
   "outputs": [
    {
     "data": {
      "text/plain": [
       "array([1, 2, 3, 4, 5, 6, 7, 8, 9])"
      ]
     },
     "execution_count": 128,
     "metadata": {},
     "output_type": "execute_result"
    }
   ],
   "source": [
    "uni2 = np.unique(t2)\n",
    "uni2 "
   ]
  },
  {
   "cell_type": "code",
   "execution_count": 133,
   "id": "14f3ba37",
   "metadata": {},
   "outputs": [
    {
     "data": {
      "text/plain": [
       "array([1, 2, 3, 4, 5])"
      ]
     },
     "execution_count": 133,
     "metadata": {},
     "output_type": "execute_result"
    }
   ],
   "source": [
    "uni3 = np.unique(a2i)\n",
    "uni3"
   ]
  },
  {
   "cell_type": "markdown",
   "id": "7691e489",
   "metadata": {},
   "source": [
    "## *Basic Operations on array*\n",
    "- Note that: For array operations the dimension and the no. of elements of each array should be same "
   ]
  },
  {
   "cell_type": "markdown",
   "id": "0b2c0b4b",
   "metadata": {},
   "source": [
    "### Addition"
   ]
  },
  {
   "cell_type": "code",
   "execution_count": 134,
   "id": "db5d0eca",
   "metadata": {},
   "outputs": [
    {
     "data": {
      "text/plain": [
       "array([ 2,  5,  8, 11, 14])"
      ]
     },
     "execution_count": 134,
     "metadata": {},
     "output_type": "execute_result"
    }
   ],
   "source": [
    "#1D array addition\n",
    "a1a+a1b "
   ]
  },
  {
   "cell_type": "code",
   "execution_count": 137,
   "id": "4c1da8b7",
   "metadata": {},
   "outputs": [
    {
     "data": {
      "text/plain": [
       "array([1., 1., 1., 1., 1.])"
      ]
     },
     "execution_count": 137,
     "metadata": {},
     "output_type": "execute_result"
    }
   ],
   "source": [
    "a1c + a1d"
   ]
  },
  {
   "cell_type": "code",
   "execution_count": 151,
   "id": "1f3622c0",
   "metadata": {},
   "outputs": [
    {
     "data": {
      "text/plain": [
       "array([[ 1,  2,  3,  4],\n",
       "       [ 5,  6,  7,  8],\n",
       "       [ 9, 10, 11, 12]])"
      ]
     },
     "execution_count": 151,
     "metadata": {},
     "output_type": "execute_result"
    }
   ],
   "source": [
    "#2D array addition\n",
    "a2a+a2h.astype(np.uint8) #Changing type of a2h because it was in floating point numbers"
   ]
  },
  {
   "cell_type": "code",
   "execution_count": 164,
   "id": "efc23dd2",
   "metadata": {},
   "outputs": [],
   "source": [
    "#3D array addition\n",
    "a3i = np.random.randint(low=1,high=100,size=(3,3,3))"
   ]
  },
  {
   "cell_type": "code",
   "execution_count": 166,
   "id": "c0b5e4fb",
   "metadata": {},
   "outputs": [
    {
     "data": {
      "text/plain": [
       "array([[[ 87,  76,  33],\n",
       "        [ 86,  68,  43],\n",
       "        [ 58,  33,   7]],\n",
       "\n",
       "       [[  8,  39,  14],\n",
       "        [ 38,  15,  17],\n",
       "        [ 19,   8,  17]],\n",
       "\n",
       "       [[ 11,  24,  76],\n",
       "        [ 86,  20,  12],\n",
       "        [103,  28,  35]]])"
      ]
     },
     "execution_count": 166,
     "metadata": {},
     "output_type": "execute_result"
    }
   ],
   "source": [
    "a3a+a3i"
   ]
  },
  {
   "cell_type": "markdown",
   "id": "f7f9d888",
   "metadata": {},
   "source": [
    "### Subtraction"
   ]
  },
  {
   "cell_type": "code",
   "execution_count": 167,
   "id": "7526f4e0",
   "metadata": {},
   "outputs": [
    {
     "data": {
      "text/plain": [
       "array([ 0, -1, -2, -3, -4])"
      ]
     },
     "execution_count": 167,
     "metadata": {},
     "output_type": "execute_result"
    }
   ],
   "source": [
    "#1D array Subtraction\n",
    "a1a-a1b "
   ]
  },
  {
   "cell_type": "code",
   "execution_count": 168,
   "id": "b3db25de",
   "metadata": {},
   "outputs": [
    {
     "data": {
      "text/plain": [
       "array([-1., -1., -1., -1., -1.])"
      ]
     },
     "execution_count": 168,
     "metadata": {},
     "output_type": "execute_result"
    }
   ],
   "source": [
    "a1c - a1d"
   ]
  },
  {
   "cell_type": "code",
   "execution_count": 183,
   "id": "aa0c8e1f",
   "metadata": {},
   "outputs": [
    {
     "data": {
      "text/plain": [
       "array([[ 1,  2,  3,  4],\n",
       "       [ 5,  6,  7,  8],\n",
       "       [ 9, 10, 11, 12]])"
      ]
     },
     "execution_count": 183,
     "metadata": {},
     "output_type": "execute_result"
    }
   ],
   "source": [
    "#2D array Subtraction\n",
    "a2h=a2h.astype(np.uint8) #Changing type of a2h because it was in floating point numbers\n",
    "a2a-a2h"
   ]
  },
  {
   "cell_type": "code",
   "execution_count": 170,
   "id": "93956651",
   "metadata": {},
   "outputs": [
    {
     "data": {
      "text/plain": [
       "array([[[-73, -27, -61],\n",
       "        [-70, -44, -49],\n",
       "        [-73, -11, -85]],\n",
       "\n",
       "       [[-92, -58, -72],\n",
       "        [-38, -82, -27],\n",
       "        [-28, -91, -51]],\n",
       "\n",
       "       [[-62,   3, -60],\n",
       "        [-71, -34, -52],\n",
       "        [-66, -49, -82]]])"
      ]
     },
     "execution_count": 170,
     "metadata": {},
     "output_type": "execute_result"
    }
   ],
   "source": [
    "#3D array Subtraction\n",
    "a3i = np.random.randint(low=1,high=100,size=(3,3,3))\n",
    "\n",
    "a3a-a3i"
   ]
  },
  {
   "cell_type": "markdown",
   "id": "db5596de",
   "metadata": {},
   "source": [
    "### Multiplication"
   ]
  },
  {
   "cell_type": "code",
   "execution_count": 171,
   "id": "c8a6de04",
   "metadata": {},
   "outputs": [
    {
     "data": {
      "text/plain": [
       "array([ 1,  6, 15, 28, 45])"
      ]
     },
     "execution_count": 171,
     "metadata": {},
     "output_type": "execute_result"
    }
   ],
   "source": [
    "#1D array \n",
    "a1a*a1b"
   ]
  },
  {
   "cell_type": "code",
   "execution_count": 184,
   "id": "217e0507",
   "metadata": {},
   "outputs": [
    {
     "data": {
      "text/plain": [
       "array([[0, 0, 0, 0],\n",
       "       [0, 0, 0, 0],\n",
       "       [0, 0, 0, 0]])"
      ]
     },
     "execution_count": 184,
     "metadata": {},
     "output_type": "execute_result"
    }
   ],
   "source": [
    "#2D array \n",
    "a2a*a2h"
   ]
  },
  {
   "cell_type": "code",
   "execution_count": 173,
   "id": "42240d39",
   "metadata": {},
   "outputs": [
    {
     "data": {
      "text/plain": [
       "array([[[ 25,  86, 153],\n",
       "        [108, 190,  44],\n",
       "        [120, 335,  54]],\n",
       "\n",
       "       [[693, 720, 864],\n",
       "        [594, 304,   7],\n",
       "        [ 18, 425, 100]],\n",
       "\n",
       "       [[567, 320,   6],\n",
       "        [ 76, 465,  28],\n",
       "        [200, 252,  46]]])"
      ]
     },
     "execution_count": 173,
     "metadata": {},
     "output_type": "execute_result"
    }
   ],
   "source": [
    "#3D array\n",
    "a3i = np.random.randint(low=1,high=100,size=(3,3,3))\n",
    "\n",
    "a3a*a3i"
   ]
  },
  {
   "cell_type": "markdown",
   "id": "54bb1cf5",
   "metadata": {},
   "source": [
    "### Concatenation "
   ]
  },
  {
   "cell_type": "code",
   "execution_count": 180,
   "id": "9b615485",
   "metadata": {},
   "outputs": [
    {
     "data": {
      "text/plain": [
       "array([1, 2, 3, 4, 5, 1, 3, 5, 7, 9])"
      ]
     },
     "execution_count": 180,
     "metadata": {},
     "output_type": "execute_result"
    }
   ],
   "source": [
    "# 1D array\n",
    "a= np.concatenate((a1a,a1b))\n",
    "a"
   ]
  },
  {
   "cell_type": "code",
   "execution_count": 187,
   "id": "388a2d98",
   "metadata": {},
   "outputs": [
    {
     "data": {
      "text/plain": [
       "array([[ 0,  0,  0,  0],\n",
       "       [ 0,  0,  0,  0],\n",
       "       [ 0,  0,  0,  0],\n",
       "       [ 1,  2,  3,  4],\n",
       "       [ 5,  6,  7,  8],\n",
       "       [ 9, 10, 11, 12]])"
      ]
     },
     "execution_count": 187,
     "metadata": {},
     "output_type": "execute_result"
    }
   ],
   "source": [
    "# 2D array\n",
    "b = np.concatenate((a2h,a2a),axis=0)\n",
    "b"
   ]
  },
  {
   "cell_type": "code",
   "execution_count": 188,
   "id": "ecfbcd45",
   "metadata": {},
   "outputs": [
    {
     "data": {
      "text/plain": [
       "array([[ 0,  0,  0,  0,  1,  2,  3,  4],\n",
       "       [ 0,  0,  0,  0,  5,  6,  7,  8],\n",
       "       [ 0,  0,  0,  0,  9, 10, 11, 12]])"
      ]
     },
     "execution_count": 188,
     "metadata": {},
     "output_type": "execute_result"
    }
   ],
   "source": [
    "b = np.concatenate((a2h,a2a),axis=1)\n",
    "b"
   ]
  },
  {
   "cell_type": "code",
   "execution_count": 189,
   "id": "a544b77e",
   "metadata": {},
   "outputs": [
    {
     "data": {
      "text/plain": [
       "array([[[ 1,  2,  3],\n",
       "        [ 3,  2,  1],\n",
       "        [ 4,  5,  6]],\n",
       "\n",
       "       [[ 7,  8,  9],\n",
       "        [ 9,  8,  7],\n",
       "        [ 6,  5,  4]],\n",
       "\n",
       "       [[ 9,  5,  1],\n",
       "        [ 1,  5,  2],\n",
       "        [ 8,  3,  2]],\n",
       "\n",
       "       [[25, 43, 51],\n",
       "        [36, 95, 44],\n",
       "        [30, 67,  9]],\n",
       "\n",
       "       [[99, 90, 96],\n",
       "        [66, 38,  1],\n",
       "        [ 3, 85, 25]],\n",
       "\n",
       "       [[63, 64,  6],\n",
       "        [76, 93, 14],\n",
       "        [25, 84, 23]]])"
      ]
     },
     "execution_count": 189,
     "metadata": {},
     "output_type": "execute_result"
    }
   ],
   "source": [
    "# 3D array\n",
    "c=np.concatenate((a3a,a3i),axis=0)\n",
    "c"
   ]
  },
  {
   "cell_type": "code",
   "execution_count": 190,
   "id": "c2ae25ac",
   "metadata": {},
   "outputs": [
    {
     "data": {
      "text/plain": [
       "array([[[ 1,  2,  3],\n",
       "        [ 3,  2,  1],\n",
       "        [ 4,  5,  6],\n",
       "        [25, 43, 51],\n",
       "        [36, 95, 44],\n",
       "        [30, 67,  9]],\n",
       "\n",
       "       [[ 7,  8,  9],\n",
       "        [ 9,  8,  7],\n",
       "        [ 6,  5,  4],\n",
       "        [99, 90, 96],\n",
       "        [66, 38,  1],\n",
       "        [ 3, 85, 25]],\n",
       "\n",
       "       [[ 9,  5,  1],\n",
       "        [ 1,  5,  2],\n",
       "        [ 8,  3,  2],\n",
       "        [63, 64,  6],\n",
       "        [76, 93, 14],\n",
       "        [25, 84, 23]]])"
      ]
     },
     "execution_count": 190,
     "metadata": {},
     "output_type": "execute_result"
    }
   ],
   "source": [
    "c=np.concatenate((a3a,a3i),axis=1)\n",
    "c"
   ]
  },
  {
   "cell_type": "markdown",
   "id": "2d175dbf",
   "metadata": {},
   "source": [
    "## *Broadcasting*\n",
    "Note That: For broadcasting there is no need to have same dimensions. "
   ]
  },
  {
   "cell_type": "code",
   "execution_count": 193,
   "id": "614798d1",
   "metadata": {},
   "outputs": [
    {
     "data": {
      "text/plain": [
       "array([ 3,  6,  9, 12, 15])"
      ]
     },
     "execution_count": 193,
     "metadata": {},
     "output_type": "execute_result"
    }
   ],
   "source": [
    "a1a * 3"
   ]
  },
  {
   "cell_type": "code",
   "execution_count": 196,
   "id": "84535a54",
   "metadata": {},
   "outputs": [
    {
     "data": {
      "text/plain": [
       "array([[ 0.5,  6. ],\n",
       "       [11.5, 17. ],\n",
       "       [22.5, 28. ],\n",
       "       [33.5, 39. ],\n",
       "       [44.5, 50. ]])"
      ]
     },
     "execution_count": 196,
     "metadata": {},
     "output_type": "execute_result"
    }
   ],
   "source": [
    "a2e * 0.5"
   ]
  },
  {
   "cell_type": "code",
   "execution_count": 198,
   "id": "2b038b48",
   "metadata": {},
   "outputs": [
    {
     "data": {
      "text/plain": [
       "array([[[23, 24, 25],\n",
       "        [25, 24, 23],\n",
       "        [26, 27, 28]],\n",
       "\n",
       "       [[29, 30, 31],\n",
       "        [31, 30, 29],\n",
       "        [28, 27, 26]],\n",
       "\n",
       "       [[31, 27, 23],\n",
       "        [23, 27, 24],\n",
       "        [30, 25, 24]]])"
      ]
     },
     "execution_count": 198,
     "metadata": {},
     "output_type": "execute_result"
    }
   ],
   "source": [
    "a3a + 22"
   ]
  },
  {
   "cell_type": "markdown",
   "id": "492c2caf",
   "metadata": {},
   "source": [
    "## *Numpy useful functions*"
   ]
  },
  {
   "cell_type": "code",
   "execution_count": 199,
   "id": "9b310e8a",
   "metadata": {},
   "outputs": [
    {
     "data": {
      "text/plain": [
       "1"
      ]
     },
     "execution_count": 199,
     "metadata": {},
     "output_type": "execute_result"
    }
   ],
   "source": [
    "a1a.min()"
   ]
  },
  {
   "cell_type": "code",
   "execution_count": 201,
   "id": "5b2261d3",
   "metadata": {},
   "outputs": [
    {
     "data": {
      "text/plain": [
       "5"
      ]
     },
     "execution_count": 201,
     "metadata": {},
     "output_type": "execute_result"
    }
   ],
   "source": [
    "a1a.max()"
   ]
  },
  {
   "cell_type": "code",
   "execution_count": 202,
   "id": "aee2fdd0",
   "metadata": {},
   "outputs": [
    {
     "data": {
      "text/plain": [
       "15"
      ]
     },
     "execution_count": 202,
     "metadata": {},
     "output_type": "execute_result"
    }
   ],
   "source": [
    "a1a.sum() # Sum of all the elements present in the array"
   ]
  },
  {
   "cell_type": "code",
   "execution_count": 205,
   "id": "241ec958",
   "metadata": {},
   "outputs": [
    {
     "data": {
      "text/plain": [
       "3"
      ]
     },
     "execution_count": 205,
     "metadata": {},
     "output_type": "execute_result"
    }
   ],
   "source": [
    "a2f.min()"
   ]
  },
  {
   "cell_type": "code",
   "execution_count": 208,
   "id": "eb874039",
   "metadata": {},
   "outputs": [
    {
     "data": {
      "text/plain": [
       "1.0"
      ]
     },
     "execution_count": 208,
     "metadata": {},
     "output_type": "execute_result"
    }
   ],
   "source": [
    "a2g.max()"
   ]
  },
  {
   "cell_type": "code",
   "execution_count": 209,
   "id": "4b6c53b1",
   "metadata": {},
   "outputs": [
    {
     "data": {
      "text/plain": [
       "4.0"
      ]
     },
     "execution_count": 209,
     "metadata": {},
     "output_type": "execute_result"
    }
   ],
   "source": [
    "a2g.sum()"
   ]
  },
  {
   "cell_type": "code",
   "execution_count": 210,
   "id": "a7c3766d",
   "metadata": {},
   "outputs": [
    {
     "data": {
      "text/plain": [
       "1"
      ]
     },
     "execution_count": 210,
     "metadata": {},
     "output_type": "execute_result"
    }
   ],
   "source": [
    "a3a.min()"
   ]
  },
  {
   "cell_type": "code",
   "execution_count": 211,
   "id": "c696aecf",
   "metadata": {},
   "outputs": [
    {
     "data": {
      "text/plain": [
       "9"
      ]
     },
     "execution_count": 211,
     "metadata": {},
     "output_type": "execute_result"
    }
   ],
   "source": [
    "a3a.max()"
   ]
  },
  {
   "cell_type": "code",
   "execution_count": 212,
   "id": "a9486549",
   "metadata": {},
   "outputs": [
    {
     "data": {
      "text/plain": [
       "126"
      ]
     },
     "execution_count": 212,
     "metadata": {},
     "output_type": "execute_result"
    }
   ],
   "source": [
    "a3a.sum()"
   ]
  },
  {
   "cell_type": "markdown",
   "id": "2e84e6e1",
   "metadata": {},
   "source": [
    "### How to find min, max in axis wise?"
   ]
  },
  {
   "cell_type": "code",
   "execution_count": 218,
   "id": "b67708d4",
   "metadata": {},
   "outputs": [
    {
     "data": {
      "text/plain": [
       "array([[1, 2, 1],\n",
       "       [6, 5, 4],\n",
       "       [1, 3, 1]])"
      ]
     },
     "execution_count": 218,
     "metadata": {},
     "output_type": "execute_result"
    }
   ],
   "source": [
    "a3a.min(axis=1) #axis = 0 means the 1st axis i.e., columns"
   ]
  },
  {
   "cell_type": "code",
   "execution_count": 221,
   "id": "5200bd31",
   "metadata": {},
   "outputs": [
    {
     "data": {
      "text/plain": [
       "array([[1, 2, 1],\n",
       "       [1, 2, 1],\n",
       "       [4, 3, 2]])"
      ]
     },
     "execution_count": 221,
     "metadata": {},
     "output_type": "execute_result"
    }
   ],
   "source": [
    "a3a.min(axis=0)"
   ]
  },
  {
   "cell_type": "code",
   "execution_count": 219,
   "id": "0e92026a",
   "metadata": {},
   "outputs": [
    {
     "data": {
      "text/plain": [
       "array([[4, 5, 6],\n",
       "       [9, 8, 9],\n",
       "       [9, 5, 2]])"
      ]
     },
     "execution_count": 219,
     "metadata": {},
     "output_type": "execute_result"
    }
   ],
   "source": [
    "a3a.max(axis=1) #col wise"
   ]
  },
  {
   "cell_type": "code",
   "execution_count": 220,
   "id": "4eaf5598",
   "metadata": {},
   "outputs": [
    {
     "data": {
      "text/plain": [
       "array([[9, 8, 9],\n",
       "       [9, 8, 7],\n",
       "       [8, 5, 6]])"
      ]
     },
     "execution_count": 220,
     "metadata": {},
     "output_type": "execute_result"
    }
   ],
   "source": [
    "a3a.max(axis=0) #row wise"
   ]
  },
  {
   "cell_type": "markdown",
   "id": "7b5d5295",
   "metadata": {},
   "source": [
    "### Sorting"
   ]
  },
  {
   "cell_type": "code",
   "execution_count": 222,
   "id": "f107a2b9",
   "metadata": {},
   "outputs": [
    {
     "data": {
      "text/plain": [
       "array([1, 2, 3, 4, 5])"
      ]
     },
     "execution_count": 222,
     "metadata": {},
     "output_type": "execute_result"
    }
   ],
   "source": [
    "np.sort(a1a)"
   ]
  },
  {
   "cell_type": "code",
   "execution_count": 223,
   "id": "f100a30e",
   "metadata": {},
   "outputs": [
    {
     "data": {
      "text/plain": [
       "array([[ 1,  2,  3,  4],\n",
       "       [ 5,  6,  7,  8],\n",
       "       [ 9, 10, 11, 12]])"
      ]
     },
     "execution_count": 223,
     "metadata": {},
     "output_type": "execute_result"
    }
   ],
   "source": [
    "np.sort(a2a)"
   ]
  },
  {
   "cell_type": "code",
   "execution_count": 233,
   "id": "b908a12d",
   "metadata": {},
   "outputs": [
    {
     "data": {
      "text/plain": [
       "array([[0., 0., 0., 1.],\n",
       "       [0., 0., 0., 1.],\n",
       "       [0., 0., 0., 1.],\n",
       "       [0., 0., 0., 1.]])"
      ]
     },
     "execution_count": 233,
     "metadata": {},
     "output_type": "execute_result"
    }
   ],
   "source": [
    "np.sort(a2g)"
   ]
  }
 ],
 "metadata": {
  "kernelspec": {
   "display_name": "Python 3",
   "language": "python",
   "name": "python3"
  },
  "language_info": {
   "codemirror_mode": {
    "name": "ipython",
    "version": 3
   },
   "file_extension": ".py",
   "mimetype": "text/x-python",
   "name": "python",
   "nbconvert_exporter": "python",
   "pygments_lexer": "ipython3",
   "version": "3.8.8"
  }
 },
 "nbformat": 4,
 "nbformat_minor": 5
}
